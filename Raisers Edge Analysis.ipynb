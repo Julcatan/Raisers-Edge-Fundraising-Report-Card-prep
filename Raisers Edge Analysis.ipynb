{
 "cells": [
  {
   "cell_type": "markdown",
   "id": "92265f21-5ab6-4000-b492-3c33d5f90403",
   "metadata": {},
   "source": [
    "Import dependencies"
   ]
  },
  {
   "cell_type": "code",
   "execution_count": null,
   "id": "8a789e72-df5b-4a13-8dd4-060050c11e84",
   "metadata": {},
   "outputs": [],
   "source": [
    "import pandas as pd\n",
    "import numpy as np\n",
    "import datetime as dt\n",
    "from datetime import timedelta"
   ]
  },
  {
   "cell_type": "markdown",
   "id": "1798d5de-1278-4212-a792-ffac88ef319e",
   "metadata": {},
   "source": [
    "Reading in the excel file. The Export from Raisers Edge should have any fields you want to filter on outside of RE + the Constituent ID, the gift or Gl post date and gift amount.  "
   ]
  },
  {
   "cell_type": "code",
   "execution_count": null,
   "id": "acb84324-371a-4774-913f-72937d71cc74",
   "metadata": {},
   "outputs": [],
   "source": [
    "data = pd.read_excel('../Desktop/All Funds Export for BI report.xls')\n",
    "data.head()"
   ]
  },
  {
   "cell_type": "markdown",
   "id": "db47ede5-cd92-4b73-a6d7-3d5c20f82f40",
   "metadata": {},
   "source": [
    "Filters the data and includes in output if any one of the following Conditions is true. Currently commented out."
   ]
  },
  {
   "cell_type": "code",
   "execution_count": null,
   "id": "16c1fc81-edaf-457d-bedd-c6e557c4675c",
   "metadata": {},
   "outputs": [],
   "source": [
    "alldata_filtered = data\n",
    "#[\n",
    " #   data['Gf_Campaign'].str.contains(\"Friends\")| \n",
    "  #  data['Gf_Appeal'].str.contains('Performer')|\n",
    "  #  data['Gf_Appeal'].str.contains('Playwright')|\n",
    "  #  data['Gf_Appeal'].str.contains('Director')|\n",
    "  #  data['Gf_Appeal'].str.contains('Producer')|\n",
    "  #  data['Gf_Appeal'].str.contains('Presidents')|\n",
    "  #  data['Gf_Appeal'].str.contains('Chairman')|\n",
    "  #  data['Gf_Appeal'].str.contains('Performer')|\n",
    "  #  data['Gf_Appeal'].str.contains('Inspiration')\n",
    "    \n",
    "        # ]\n",
    "\n",
    "#data['Gf_AttrCat_1_01_Description'].notna()"
   ]
  },
  {
   "cell_type": "code",
   "execution_count": null,
   "id": "c3515d33-e673-4b91-8a7d-fe1a7183d92e",
   "metadata": {},
   "outputs": [],
   "source": [
    "alldata_filtered.head()"
   ]
  },
  {
   "cell_type": "markdown",
   "id": "14533281-c750-4189-8196-77ba338f0309",
   "metadata": {},
   "source": [
    "Write the filtered file to excel for review"
   ]
  },
  {
   "cell_type": "code",
   "execution_count": null,
   "id": "ce3ffdaa-5231-4bd0-9ad8-2cf4d9f471d5",
   "metadata": {},
   "outputs": [],
   "source": [
    "#alldata_filtered.to_excel(\"Filtered_Data.xlsx\",sheet_name='Sheet_name_1')  "
   ]
  },
  {
   "cell_type": "markdown",
   "id": "2e9e8f5c-5caa-4898-a3a4-00b675f0cc3d",
   "metadata": {},
   "source": [
    "Remove unnecessary columns"
   ]
  },
  {
   "cell_type": "code",
   "execution_count": null,
   "id": "1b771bad-d141-4b4c-99a6-7909b3a59912",
   "metadata": {},
   "outputs": [],
   "source": [
    "filtered_for_FundraisingRC = alldata_filtered[['Gf_CnBio_ID','Gf_GL_post_date','Gf_Amount']]"
   ]
  },
  {
   "cell_type": "markdown",
   "id": "fd8fb09a-3f5c-4974-9f1b-d341aaf35bd4",
   "metadata": {},
   "source": [
    "Rename the columns to match the required format for the Fundraising Report Card website"
   ]
  },
  {
   "cell_type": "code",
   "execution_count": null,
   "id": "964b18c4-70cb-4013-a97d-99612f62978c",
   "metadata": {},
   "outputs": [],
   "source": [
    "filtered_for_FundraisingRC = filtered_for_FundraisingRC.rename(columns={'Gf_CnBio_ID': 'donor_id', 'Gf_GL_post_date':'donation_date','Gf_Amount': 'gift_amount'})"
   ]
  },
  {
   "cell_type": "code",
   "execution_count": null,
   "id": "2b85b59e-3cf0-4895-86c0-dd2064b40673",
   "metadata": {},
   "outputs": [],
   "source": [
    "filtered_for_FundraisingRC.to_csv('Upload to FRRC.csv')"
   ]
  },
  {
   "cell_type": "code",
   "execution_count": null,
   "id": "69587013-67ef-441d-b38e-914a9f841971",
   "metadata": {},
   "outputs": [],
   "source": [
    "filtered_for_FundraisingRC['Year'] = filtered_for_FundraisingRC['donation_date'].dt.year"
   ]
  },
  {
   "cell_type": "code",
   "execution_count": null,
   "id": "930cee30-634e-4438-991c-a5311d7805e0",
   "metadata": {},
   "outputs": [],
   "source": [
    "filtered_for_FundraisingRC['Month'] = filtered_for_FundraisingRC['donation_date'].dt.month"
   ]
  },
  {
   "cell_type": "code",
   "execution_count": null,
   "id": "11ea75f6-455e-4e85-8f46-d4a1655c9c4f",
   "metadata": {},
   "outputs": [],
   "source": [
    "filtered_for_FundraisingRC['As Quarter'] = filtered_for_FundraisingRC['donation_date'].dt.to_period('Q-Jun')"
   ]
  },
  {
   "cell_type": "code",
   "execution_count": null,
   "id": "3e0e2559-a76d-4026-a027-a85f0a4b4cc4",
   "metadata": {},
   "outputs": [],
   "source": [
    "filtered_for_FundraisingRC['Fiscal Year'] = filtered_for_FundraisingRC['As Quarter'].dt.qyear"
   ]
  },
  {
   "cell_type": "code",
   "execution_count": null,
   "id": "50ed7acd-5720-4b0b-9b3c-27e49f2a7547",
   "metadata": {},
   "outputs": [],
   "source": [
    "filtered_for_FundraisingRC['Fiscal YearRange'] = filtered_for_FundraisingRC['donation_date'].dt.to_period('Q-Jun').dt.qyear.apply(lambda x: str(x-1) + \"-\" + str(x))"
   ]
  },
  {
   "cell_type": "markdown",
   "id": "d11bb404-e5c3-4939-a8cf-9552b1772f37",
   "metadata": {},
   "source": [
    "Number of Donations"
   ]
  },
  {
   "cell_type": "code",
   "execution_count": null,
   "id": "a1d1499c-e895-4e20-b01b-02c0ed06a494",
   "metadata": {},
   "outputs": [],
   "source": [
    "donation_count = filtered_for_FundraisingRC.groupby('Fiscal Year').agg({'donor_id':'size'})\n",
    "donation_count_df = pd.DataFrame(donation_count)\n",
    "donation_count_df"
   ]
  },
  {
   "cell_type": "markdown",
   "id": "2d0216b3-5e40-4fce-bc79-f995bb63f287",
   "metadata": {},
   "source": [
    "Number of Donors"
   ]
  },
  {
   "cell_type": "code",
   "execution_count": null,
   "id": "b8481908-66ec-4dd6-a047-3fb01ec8d648",
   "metadata": {},
   "outputs": [],
   "source": [
    "donor_count = filtered_for_FundraisingRC.groupby('Fiscal Year').agg({'donor_id':'nunique'})\n",
    "donor_count_df = pd.DataFrame(donor_count)\n",
    "donor_count_df    \n"
   ]
  },
  {
   "cell_type": "markdown",
   "id": "c0ca14bc-6fcf-43de-a7ba-00d70fc569e2",
   "metadata": {},
   "source": [
    "Total Amount donated per Fiscal Year"
   ]
  },
  {
   "cell_type": "code",
   "execution_count": null,
   "id": "367ef3e9-a140-4afd-8f8d-1fa3935f1575",
   "metadata": {},
   "outputs": [],
   "source": [
    "sum_donations = filtered_for_FundraisingRC.groupby('Fiscal Year').agg({'gift_amount':'sum'})\n",
    "sum_donations = pd.DataFrame(sum_donations)\n",
    "sum_donations['gift_amount']=sum_donations['gift_amount'].map(\"${:,.2f}\".format)\n",
    "sum_donations"
   ]
  },
  {
   "cell_type": "code",
   "execution_count": null,
   "id": "807cbc89-48e4-4a69-8ed9-b107c51f6b2a",
   "metadata": {},
   "outputs": [],
   "source": [
    "avg_donations = filtered_for_FundraisingRC.groupby('Fiscal Year').agg({'gift_amount':'mean'})\n",
    "avg_donations = pd.DataFrame(avg_donations)\n",
    "avg_donations['avg_gift_amount']=avg_donations['gift_amount'].map(\"${:,.2f}\".format)\n",
    "avg_donations =avg_donations.drop('gift_amount',1) \n",
    "avg_donations"
   ]
  },
  {
   "cell_type": "code",
   "execution_count": null,
   "id": "7ecc9406-05a3-4b92-b7c5-c4e8f7ea79f9",
   "metadata": {},
   "outputs": [],
   "source": [
    "pivot=filtered_for_FundraisingRC.pivot_table(index=['donor_id'],aggfunc={\"donor_id\": lambda x: len(x.unique())},  columns='Fiscal Year', values='donation_date')\n",
    "pivot = pivot.fillna(0)\n",
    "\n",
    "pivot"
   ]
  },
  {
   "cell_type": "code",
   "execution_count": null,
   "id": "4a52e267-58d2-48c0-b6cd-783ede09d2a4",
   "metadata": {},
   "outputs": [],
   "source": [
    "pivot['retained 2021']= ((pivot[2020] == 1) & (pivot[2021] == 1)) # retained 2021\n"
   ]
  },
  {
   "cell_type": "code",
   "execution_count": null,
   "id": "78f9c916-ba22-4659-ae2a-78c766b2e795",
   "metadata": {},
   "outputs": [],
   "source": [
    "pivot['retained 2022']= ((pivot[2021] == 1) & (pivot[2022] == 1)) # retained 2022\n",
    "pivot"
   ]
  },
  {
   "cell_type": "code",
   "execution_count": null,
   "id": "7d96bb29-e921-4fed-8907-337eebe2e758",
   "metadata": {},
   "outputs": [],
   "source": [
    "pivot['lapsed 2021']=((pivot[2020] == 1) & (pivot[2021] != 1)) # lapsed 2021"
   ]
  },
  {
   "cell_type": "code",
   "execution_count": null,
   "id": "6a7e7556-7076-4d15-95c4-d8df5408b27d",
   "metadata": {},
   "outputs": [],
   "source": [
    "pivot['lapsed 2022']=((pivot[2021] == 1) & (pivot[2022] != 1))# lapsed 2022"
   ]
  },
  {
   "cell_type": "code",
   "execution_count": null,
   "id": "f3ee7825-19ea-46c2-a140-49d4ef85b023",
   "metadata": {},
   "outputs": [],
   "source": [
    "pivot['New/reengaged 2022']=((pivot[2021] == 0) & (pivot[2022] == 1)) #Reengaged 2022"
   ]
  },
  {
   "cell_type": "code",
   "execution_count": null,
   "id": "aa59cd24-96bf-4dd7-a801-c3f1123e2fba",
   "metadata": {},
   "outputs": [],
   "source": [
    "pivot"
   ]
  },
  {
   "cell_type": "code",
   "execution_count": null,
   "id": "0c797b4a-da87-4a6b-87f0-e4acfcc33d6f",
   "metadata": {},
   "outputs": [],
   "source": [
    "pivot.to_csv('lapsed_retained.csv')   "
   ]
  }
 ],
 "metadata": {
  "kernelspec": {
   "display_name": "Python 3 (ipykernel)",
   "language": "python",
   "name": "python3"
  },
  "language_info": {
   "codemirror_mode": {
    "name": "ipython",
    "version": 3
   },
   "file_extension": ".py",
   "mimetype": "text/x-python",
   "name": "python",
   "nbconvert_exporter": "python",
   "pygments_lexer": "ipython3",
   "version": "3.9.7"
  }
 },
 "nbformat": 4,
 "nbformat_minor": 5
}
